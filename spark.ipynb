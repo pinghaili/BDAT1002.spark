{
 "cells": [
  {
   "cell_type": "markdown",
   "metadata": {},
   "source": [
    "## 1.Data Loading and Schema Understanding "
   ]
  },
  {
   "cell_type": "code",
   "execution_count": 19,
   "metadata": {},
   "outputs": [
    {
     "name": "stdout",
     "output_type": "stream",
     "text": [
      "root\n",
      " |-- id: integer (nullable = true)\n",
      " |-- track_id: string (nullable = true)\n",
      " |-- artists: string (nullable = true)\n",
      " |-- album_name: string (nullable = true)\n",
      " |-- track_name: string (nullable = true)\n",
      " |-- popularity: string (nullable = true)\n",
      " |-- duration_ms: string (nullable = true)\n",
      " |-- explicit: string (nullable = true)\n",
      " |-- danceability: string (nullable = true)\n",
      " |-- energy: string (nullable = true)\n",
      " |-- key: string (nullable = true)\n",
      " |-- loudness: string (nullable = true)\n",
      " |-- mode: string (nullable = true)\n",
      " |-- speechiness: string (nullable = true)\n",
      " |-- acousticness: string (nullable = true)\n",
      " |-- instrumentalness: double (nullable = true)\n",
      " |-- liveness: string (nullable = true)\n",
      " |-- valence: string (nullable = true)\n",
      " |-- tempo: double (nullable = true)\n",
      " |-- time_signature: double (nullable = true)\n",
      " |-- track_genre: string (nullable = true)\n",
      "\n"
     ]
    }
   ],
   "source": [
    "# !pip install pyspark\n",
    "\n",
    "from pyspark.sql import SparkSession\n",
    "\n",
    "# Initialize a Spark session\n",
    "spark = SparkSession.builder.appName(\"MusicDataAnalysis\").getOrCreate()\n",
    "\n",
    "# Load csv into a Spark DataFrame\n",
    "df = spark.read.csv(\"./dataset.csv\", header=True, inferSchema=True)\n",
    "\n",
    "# Print the schema to verify the data types\n",
    "df.printSchema()\n"
   ]
  },
  {
   "cell_type": "markdown",
   "metadata": {},
   "source": [
    "## 2.Data Aggregation"
   ]
  },
  {
   "cell_type": "code",
   "execution_count": 20,
   "metadata": {},
   "outputs": [
    {
     "name": "stdout",
     "output_type": "stream",
     "text": [
      "+--------------------+--------------+\n",
      "|             artists|avg_popularity|\n",
      "+--------------------+--------------+\n",
      "|Sam Smith;Kim Petras|         100.0|\n",
      "|    Bizarrap;Quevedo|          99.0|\n",
      "|       Manuel Turizo|          98.0|\n",
      "|Bad Bunny;Chencho...|          97.0|\n",
      "|Bad Bunny;Bomba E...|          94.5|\n",
      "+--------------------+--------------+\n",
      "\n"
     ]
    }
   ],
   "source": [
    "from pyspark.sql import functions as F\n",
    "\n",
    "# Calculate the averages by artist\n",
    "df_aggregated = df.groupBy(\"artists\").agg(\n",
    "    F.avg(\"danceability\").alias(\"avg_danceability\"),\n",
    "    F.avg(\"energy\").alias(\"avg_energy\"),\n",
    "    F.avg(\"tempo\").alias(\"avg_tempo\")\n",
    ")\n",
    "\n",
    "# Top 5 artists by average track popularity\n",
    "top_artists = df.groupBy(\"artists\").agg(\n",
    "    F.avg(\"popularity\").alias(\"avg_popularity\")\n",
    ").orderBy(F.desc(\"avg_popularity\")).limit(5)\n",
    "\n",
    "top_artists.show()"
   ]
  },
  {
   "cell_type": "markdown",
   "metadata": {},
   "source": [
    "## 3. Data Transformation"
   ]
  },
  {
   "cell_type": "code",
   "execution_count": 21,
   "metadata": {},
   "outputs": [
    {
     "name": "stdout",
     "output_type": "stream",
     "text": [
      "+--------------+------------------+------------------+\n",
      "|  energy_level|    avg_popularity|      avg_loudness|\n",
      "+--------------+------------------+------------------+\n",
      "|   High Energy|31.786889141167464|-5.121428733599088|\n",
      "|Regular Energy|33.990498624800956| 2.625479753796758|\n",
      "+--------------+------------------+------------------+\n",
      "\n"
     ]
    }
   ],
   "source": [
    "# Create a new column \"energy_level\"\n",
    "df_with_energy_level = df.withColumn(\n",
    "    \"energy_level\",\n",
    "    F.when(F.col(\"energy\") > 0.8, \"High Energy\").otherwise(\"Regular Energy\")\n",
    ")\n",
    "\n",
    "# Calculate the average popularity and loudness for each energy level\n",
    "df_grouped_by_energy = df_with_energy_level.groupBy(\"energy_level\").agg(\n",
    "    F.avg(\"popularity\").alias(\"avg_popularity\"),\n",
    "    F.avg(\"loudness\").alias(\"avg_loudness\")\n",
    ")\n",
    "\n",
    "df_grouped_by_energy.show()"
   ]
  },
  {
   "cell_type": "markdown",
   "metadata": {},
   "source": [
    "## 4. Data Exporting\n"
   ]
  },
  {
   "cell_type": "code",
   "execution_count": 23,
   "metadata": {},
   "outputs": [],
   "source": [
    "# Filter the data for 'High Energy' tracks\n",
    "high_energy_tracks = df_with_energy_level.filter(F.col(\"energy_level\") == \"High Energy\")\n",
    "\n",
    "# Export the high energy tracks\n",
    "high_energy_tracks.coalesce(1).write.option(\"header\", \"true\").csv(\"./high_energy\")\n"
   ]
  }
 ],
 "metadata": {
  "kernelspec": {
   "display_name": ".venv",
   "language": "python",
   "name": "python3"
  },
  "language_info": {
   "codemirror_mode": {
    "name": "ipython",
    "version": 3
   },
   "file_extension": ".py",
   "mimetype": "text/x-python",
   "name": "python",
   "nbconvert_exporter": "python",
   "pygments_lexer": "ipython3",
   "version": "3.9.6"
  }
 },
 "nbformat": 4,
 "nbformat_minor": 2
}
